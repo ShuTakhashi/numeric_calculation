{
 "cells": [
  {
   "cell_type": "markdown",
   "metadata": {},
   "source": [
    "#### 問題2 興奮現象モデル\n",
    "\n",
    "$$\n",
    "\\begin{align}\n",
    "\\frac{du}{dt} &= \\frac{1}{\\varepsilon}(u(1-u)(u-a)-v)\\equiv \\frac{1}{\\varepsilon}f(u,v),\\\\\n",
    "\\frac{dv}{dt} &= u-\\gamma v\\equiv g(u,v),\\\\\n",
    "(u,v)(0)&=(u_0 ,v_0)\n",
    "\\end{align}\n",
    "$$\n",
    "ただし$a=0.2, \\varepsilon=0.001 $"
   ]
  },
  {
   "cell_type": "markdown",
   "metadata": {},
   "source": [
    "3. 初期値を$(u_0, v_0)=(0.18, 0.0), (u_0, v_0)=(0.22, 0.0)$と置いた時の解軌道を$(u,v)$平面で表示しなさい\n"
   ]
  },
  {
   "cell_type": "code",
   "execution_count": 215,
   "metadata": {},
   "outputs": [],
   "source": [
    "import math\n",
    "import numpy as np\n",
    "import matplotlib.pyplot as plt"
   ]
  },
  {
   "cell_type": "code",
   "execution_count": 216,
   "metadata": {},
   "outputs": [],
   "source": [
    "def f(u, v):\n",
    "    return 1/epsilon*(u*(1-u)*(u-a)-v)\n",
    "def g(u, v):\n",
    "    return u-gamma*v"
   ]
  },
  {
   "cell_type": "code",
   "execution_count": 217,
   "metadata": {},
   "outputs": [],
   "source": [
    "t = 0.0\n",
    "dt = 0.0001\n",
    "endTime = 10.0\n",
    "steps = endTime/dt"
   ]
  },
  {
   "cell_type": "code",
   "execution_count": 218,
   "metadata": {},
   "outputs": [],
   "source": [
    "a = 0.2\n",
    "epsilon = 0.001\n",
    "gamma = 0.5\n",
    "\n",
    "(u0_1, v0_1) = (0.18, 0.0)\n",
    "(u0_2, v0_2) = (0.22, 0.0)"
   ]
  },
  {
   "cell_type": "code",
   "execution_count": 219,
   "metadata": {},
   "outputs": [],
   "source": [
    "(u, v) = (u0_1, v0_1)"
   ]
  },
  {
   "cell_type": "code",
   "execution_count": 220,
   "metadata": {},
   "outputs": [],
   "source": [
    "t_array = np.arange(0, endTime, dt)\n",
    "u_array_1 = np.array([])\n",
    "v_array_1 = np.array([])"
   ]
  },
  {
   "cell_type": "code",
   "execution_count": 221,
   "metadata": {},
   "outputs": [],
   "source": [
    "for i in range(int(steps)):\n",
    "    t += dt #時間を進める\n",
    "    k1 = f(u, v)\n",
    "    l1 = g(u, v)\n",
    "    k2 = f(u + dt/2*k1, v + dt/2*l1)\n",
    "    l2 = g(u + dt/2*k1, v + dt/2*l1)\n",
    "    k3 = f(u + dt/2*k2, v+ dt/2*l2)\n",
    "    l3 = g(u + dt/2*k2, v+ dt/2*l2)\n",
    "    k4 = f(u + dt*k3, v + dt*l3)\n",
    "    l4 = g(u + dt*k3, v + dt*l3)\n",
    "    u = u + dt/6*(k1 + 2*k2 + 2*k3 + k4)\n",
    "    v = v + dt/6*(l1 + 2*l2 + 2*l3 + l4)\n",
    "    u_array_1 = np.append(u_array_1, u)\n",
    "    v_array_1 = np.append(v_array_1, v)"
   ]
  },
  {
   "cell_type": "code",
   "execution_count": 222,
   "metadata": {},
   "outputs": [],
   "source": [
    "(u, v) = (u0_2, v0_2)"
   ]
  },
  {
   "cell_type": "code",
   "execution_count": 223,
   "metadata": {},
   "outputs": [],
   "source": [
    "u_array_2 = np.array([])\n",
    "v_array_2 = np.array([])"
   ]
  },
  {
   "cell_type": "code",
   "execution_count": 224,
   "metadata": {},
   "outputs": [],
   "source": [
    "for i in range(int(steps)):\n",
    "    t += dt #時間を進める\n",
    "    k1 = f(u, v)\n",
    "    l1 = g(u, v)\n",
    "    k2 = f(u + dt/2*k1, v + dt/2*l1)\n",
    "    l2 = g(u + dt/2*k1, v + dt/2*l1)\n",
    "    k3 = f(u + dt/2*k2, v+ dt/2*l2)\n",
    "    l3 = g(u + dt/2*k2, v+ dt/2*l2)\n",
    "    k4 = f(u + dt*k3, v + dt*l3)\n",
    "    l4 = g(u + dt*k3, v + dt*l3)\n",
    "    u = u + dt/6*(k1 + 2*k2 + 2*k3 + k4)\n",
    "    v = v + dt/6*(l1 + 2*l2 + 2*l3 + l4)\n",
    "    u_array_2 = np.append(u_array_2, u)\n",
    "    v_array_2 = np.append(v_array_2, v)"
   ]
  },
  {
   "cell_type": "code",
   "execution_count": 225,
   "metadata": {},
   "outputs": [
    {
     "data": {
      "text/plain": [
       "Text(0, 0.5, 'v')"
      ]
     },
     "execution_count": 225,
     "metadata": {},
     "output_type": "execute_result"
    },
    {
     "data": {
      "image/png": "[encoded data removed]",
      "text/plain": [
       "<Figure size 432x288 with 1 Axes>"
      ]
     },
     "metadata": {
      "needs_background": "light"
     },
     "output_type": "display_data"
    },
    {
     "data": {
      "image/png": "[encoded data removed]",
      "text/plain": [
       "<Figure size 432x288 with 1 Axes>"
      ]
     },
     "metadata": {
      "needs_background": "light"
     },
     "output_type": "display_data"
    },
    {
     "data": {
      "image/png": "[encoded data removed]",
      "text/plain": [
       "<Figure size 432x288 with 1 Axes>"
      ]
     },
     "metadata": {
      "needs_background": "light"
     },
     "output_type": "display_data"
    }
   ],
   "source": [
    "plt.figure()\n",
    "plt.plot(t_array, u_array_1, label=\"u\")\n",
    "plt.plot(t_array, v_array_1, label=\"v\")\n",
    "plt.plot(0, u0_1, marker=\"o\", color=\"green\")\n",
    "plt.plot(0, v0_1, marker=\"o\", color=\"orange\")\n",
    "plt.xlabel(\"t\")\n",
    "plt.ylabel(\"u, v\")\n",
    "\n",
    "plt.figure()\n",
    "plt.plot(t_array, u_array_2, label=\"u\")\n",
    "plt.plot(t_array, v_array_2, label=\"v\")\n",
    "plt.plot(0, u0_2, marker=\"o\", color=\"green\")\n",
    "plt.plot(0, v0_2, marker=\"o\", color=\"orange\")\n",
    "plt.xlabel(\"t\")\n",
    "plt.ylabel(\"u, v\")\n",
    "\n",
    "plt.figure()\n",
    "plt.plot(u_array_1, v_array_1, color=\"blue\")\n",
    "plt.plot(u0_1, v0_1, marker=\"o\", color=\"green\")\n",
    "plt.plot(u_array_2, v_array_2, color=\"red\")\n",
    "plt.plot(u0_2, v0_2, marker=\"o\", color=\"orange\")\n",
    "plt.xlabel(\"u\")\n",
    "plt.ylabel(\"v\")"
   ]
  }
 ],
 "metadata": {
  "kernelspec": {
   "display_name": "base",
   "language": "python",
   "name": "python3"
  },
  "language_info": {
   "codemirror_mode": {
    "name": "ipython",
    "version": 3
   },
   "file_extension": ".py",
   "mimetype": "text/x-python",
   "name": "python",
   "nbconvert_exporter": "python",
   "pygments_lexer": "ipython3",
   "version": "3.9.7"
  }
 },
 "nbformat": 4,
 "nbformat_minor": 2
}
