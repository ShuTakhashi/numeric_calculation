{
 "cells": [
  {
   "cell_type": "markdown",
   "metadata": {},
   "source": [
    "## 数値計算を習得する\n",
    "そのために([“私にとっての”反応拡散系数値シミュレーション入門基礎編](http://mmc01.es.hokudai.ac.jp/58))を使う. ここにはその演習をやる. "
   ]
  },
  {
   "cell_type": "code",
   "execution_count": 148,
   "metadata": {},
   "outputs": [],
   "source": [
    "import math\n",
    "import numpy as np\n",
    "import matplotlib.pyplot as plt\n",
    "\n"
   ]
  },
  {
   "cell_type": "markdown",
   "metadata": {},
   "source": [
    "#### 例題1 ロジスティック方程式\n",
    "\n",
    "$$\n",
    "\\begin{align}\n",
    "\\frac{du}{dt} &= au(1-u),\\\\\n",
    "u(0) &= u_0\n",
    "\\end{align}\n",
    "$$\n",
    "\n",
    "ただし, aは正の定数"
   ]
  },
  {
   "cell_type": "markdown",
   "metadata": {},
   "source": [
    "1.  $u_0 > 0$の初期値に対してEuler法や法やRunge-Kutta法で数値計算しなさい. 得られた解を(u,t)平面でグラフ表示しなさい. "
   ]
  },
  {
   "cell_type": "markdown",
   "metadata": {},
   "source": [
    "以下に修正Euler法(通常版)を示す.\n",
    "$$\n",
    "\\begin{align}\n",
    "u_0 &= u(t_0), \\\\\n",
    "k &= u_n + \\frac{\\Delta t}{2}f(t_n, u_n),\\\\\n",
    "u_{n+1} &= u_n +\\Delta t f(t_n + \\frac{\\Delta t}{2}, k).\n",
    "\\end{align}\n",
    "$$"
   ]
  },
  {
   "cell_type": "markdown",
   "metadata": {},
   "source": [
    "##### 関数の設定"
   ]
  },
  {
   "cell_type": "code",
   "execution_count": 149,
   "metadata": {},
   "outputs": [],
   "source": [
    "def logistic(a, x):\n",
    "    return a*x*(1-x)"
   ]
  },
  {
   "cell_type": "markdown",
   "metadata": {},
   "source": [
    "##### 時間の設定"
   ]
  },
  {
   "cell_type": "code",
   "execution_count": 161,
   "metadata": {},
   "outputs": [],
   "source": [
    "t = 0.0\n",
    "dt = 0.01\n",
    "endTime = 10.0\n",
    "steps = endTime/dt"
   ]
  },
  {
   "cell_type": "markdown",
   "metadata": {},
   "source": [
    "##### パラメータの設定"
   ]
  },
  {
   "cell_type": "code",
   "execution_count": 162,
   "metadata": {},
   "outputs": [],
   "source": [
    "a = 1 #仮にね"
   ]
  },
  {
   "cell_type": "markdown",
   "metadata": {},
   "source": [
    "##### 初期値の設定"
   ]
  },
  {
   "cell_type": "code",
   "execution_count": null,
   "metadata": {},
   "outputs": [],
   "source": []
  },
  {
   "cell_type": "code",
   "execution_count": 163,
   "metadata": {},
   "outputs": [],
   "source": [
    "u_0 = 0.2\n",
    "u = u_0"
   ]
  },
  {
   "cell_type": "markdown",
   "metadata": {},
   "source": [
    "##### グラフ用の配列の作成"
   ]
  },
  {
   "cell_type": "code",
   "execution_count": 164,
   "metadata": {},
   "outputs": [],
   "source": [
    "t_array = np.arange(0, endTime, dt)\n",
    "u_array = np.array([])"
   ]
  },
  {
   "cell_type": "markdown",
   "metadata": {},
   "source": [
    "##### Euler法での数値計算"
   ]
  },
  {
   "cell_type": "code",
   "execution_count": 143,
   "metadata": {},
   "outputs": [],
   "source": [
    "\n",
    "\n",
    "for i in range(int(steps)):\n",
    "    t+= dt #時間を進める\n",
    "    k = u + dt/2*logistic(a, u) \n",
    "    u = u + dt*logistic(a, k) \n",
    "    u_array = np.append(u_array, u)\n",
    "\n",
    "\n",
    "   "
   ]
  },
  {
   "cell_type": "markdown",
   "metadata": {},
   "source": [
    "##### グラフの描画"
   ]
  },
  {
   "cell_type": "code",
   "execution_count": 144,
   "metadata": {},
   "outputs": [
    {
     "data": {
      "text/plain": [
       "[<matplotlib.lines.Line2D at 0x7f8b00bc6c40>]"
      ]
     },
     "execution_count": 144,
     "metadata": {},
     "output_type": "execute_result"
    },
    {
     "data": {
      "image/png": "[encoded data removed]",
      "text/plain": [
       "<Figure size 432x288 with 1 Axes>"
      ]
     },
     "metadata": {
      "needs_background": "light"
     },
     "output_type": "display_data"
    }
   ],
   "source": [
    "plt.plot(t_array, u_array) "
   ]
  },
  {
   "cell_type": "markdown",
   "metadata": {},
   "source": [
    "次に4次のRungeーKutta法を以下に示す. \n",
    "\n",
    "$$\n",
    "\\begin{align}\n",
    "u_0 &= u(t_0),\\\\\n",
    "k_1 &= f(t_n, u_n),\\\\\n",
    "k_2 &=f(t_n + \\frac{1}{2}\\Delta t, u_n + \\frac{1}{2}\\Delta k_1),\\\\\n",
    "k_3 &=f(t_n + \\frac{1}{2}\\Delta t, u_n + \\frac{1}{2}\\Delta k_2),\\\\\n",
    "k_4 &=f(t_n + \\frac{1}{2}\\Delta t, u_n + \\frac{1}{2}\\Delta k_3),\\\\\n",
    "u_{n+1} &= u_n + \\frac{\\Delta t}{6}(k_1 + 2k_2 + 2k_3 +k_4).\n",
    "\\end{align}\n",
    "$$"
   ]
  },
  {
   "cell_type": "markdown",
   "metadata": {},
   "source": [
    "##### 4次のRungeーKutta法での数値計算"
   ]
  },
  {
   "cell_type": "code",
   "execution_count": 165,
   "metadata": {},
   "outputs": [],
   "source": [
    "for i in range(int(steps)):\n",
    "    t += dt #時間を進める\n",
    "    k1 = logistic(a, u)\n",
    "    k2 = logistic(a, u + dt/2*k1)\n",
    "    k3 = logistic(a, u + dt/2*k2)\n",
    "    k4 = logistic(a, u + dt/2*k3)\n",
    "    u = u + dt/6*(k1 + 2*k2 + 2*k3 + k4)\n",
    "    u_array = np.append(u_array, u)\n",
    "\n",
    "    "
   ]
  },
  {
   "cell_type": "markdown",
   "metadata": {},
   "source": [
    "#### グラフの描画"
   ]
  },
  {
   "cell_type": "code",
   "execution_count": 166,
   "metadata": {},
   "outputs": [
    {
     "data": {
      "text/plain": [
       "[<matplotlib.lines.Line2D at 0x7f8af121f5b0>]"
      ]
     },
     "execution_count": 166,
     "metadata": {},
     "output_type": "execute_result"
    },
    {
     "data": {
      "image/png": "[encoded data removed]",
      "text/plain": [
       "<Figure size 432x288 with 1 Axes>"
      ]
     },
     "metadata": {
      "needs_background": "light"
     },
     "output_type": "display_data"
    }
   ],
   "source": [
    "plt.plot(t_array, u_array)"
   ]
  },
  {
   "cell_type": "markdown",
   "metadata": {},
   "source": [
    "2. Euler法で数値計算したとき，∆t の大きさを変化させて解を求めなさい．"
   ]
  },
  {
   "cell_type": "code",
   "execution_count": null,
   "metadata": {},
   "outputs": [],
   "source": [
    "t = 0.0\n",
    "dt = 0.01\n",
    "endTime = 10.0\n",
    "steps = endTime/dt\n",
    "\n",
    "a = 1 #仮にね\n",
    "\n",
    "u_0 = 0.2\n",
    "u = u_0\n",
    "\n",
    "\n",
    "\n"
   ]
  }
 ],
 "metadata": {
  "kernelspec": {
   "display_name": "base",
   "language": "python",
   "name": "python3"
  },
  "language_info": {
   "codemirror_mode": {
    "name": "ipython",
    "version": 3
   },
   "file_extension": ".py",
   "mimetype": "text/x-python",
   "name": "python",
   "nbconvert_exporter": "python",
   "pygments_lexer": "ipython3",
   "version": "3.9.7"
  }
 },
 "nbformat": 4,
 "nbformat_minor": 2
}
